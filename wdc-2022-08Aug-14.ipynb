{
 "cells": [
  {
   "cell_type": "markdown",
   "id": "c84968c1",
   "metadata": {},
   "source": [
    "# Agenda\n",
    "\n",
    "1. Recap/summary of objects\n",
    "2. Inheritance (`object`)\n",
    "3. Magic methods (`__len__`, `__str__`, `__repr__`)\n",
    "4. Exceptions\n",
    "5. Test"
   ]
  },
  {
   "cell_type": "markdown",
   "id": "bc92d998",
   "metadata": {},
   "source": [
    "# Object-oriented words\n",
    "\n",
    "(Markdown -- creates HTML)\n",
    "\n",
    "- `class` or `type` -- both describe data types\n",
    "   - Use `class` to define a new class\n",
    "   - Use `type` to find out what kind of object something is\n",
    "   \n",
    "Example:\n",
    "\n",
    "```python\n",
    "class Person:  # use the keyword \"class\" to create a new class\n",
    "    def __init__(self, name):\n",
    "        self.name = name\n",
    "        \n",
    "    def greet(self):\n",
    "        return f'Hello, {self.name}!'\n",
    "\n",
    "p = Person('Reuven')  # get an instance of Person, and assign to p\n",
    "print(type(p))        # use type as a function to get the type back\n",
    "```        \n",
    "\n",
    "- The method `__init__` runs right after the new object, an instance of `Person`, is created.\n",
    "    - `__init__` is where we add new attributes\n",
    "    - The first parameter, `self`, refers to our instance\n",
    "    - `self` is always the first parameter\n",
    "- The method `greet` is a *class attribute* -- it's defined on `Person`, as `Person.greet`.\n",
    "    - I can run `Person.greet(p)`, and it'll work\n",
    "    - It's more usual to write `p.greet()` -- which is precisely the same thing, as far as Python is concerned\n",
    "- ICPO rule -- describes the lookup of attributes\n",
    "    - I: **Instance**\n",
    "    - C: Instance's **Class**\n",
    "    - P: **Parent** class\n",
    "    - O: **`object`**\n",
    "- When I call `p.greet()`, Python does the following:\n",
    "    - Does the instance `p` have the attribute `greet`? No.\n",
    "    - Does the instance `p`'s class, `Parent`, have the attribute `greet`? Yes."
   ]
  },
  {
   "cell_type": "code",
   "execution_count": 2,
   "id": "1e82f14b",
   "metadata": {},
   "outputs": [
    {
     "name": "stdout",
     "output_type": "stream",
     "text": [
      "Hello\n"
     ]
    }
   ],
   "source": [
    "# this is a code cell\n",
    "# y in command mode -- ESC y)\n",
    "\n",
    "print('Hello')"
   ]
  },
  {
   "cell_type": "markdown",
   "id": "0e406881",
   "metadata": {},
   "source": [
    "# This is a Markdown cell\n",
    "\n",
    "(M in command mode -- ESC m)\n",
    "\n",
    "- a\n",
    "- b\n",
    "- c, too"
   ]
  },
  {
   "cell_type": "code",
   "execution_count": 3,
   "id": "6a2408eb",
   "metadata": {},
   "outputs": [
    {
     "name": "stdout",
     "output_type": "stream",
     "text": [
      "<class '__main__.Person'>\n"
     ]
    }
   ],
   "source": [
    "class Person:  # use the keyword \"class\" to create a new class\n",
    "    def __init__(self, name):\n",
    "        self.name = name\n",
    "        \n",
    "    def greet(self):\n",
    "        return f'Hello, {self.name}!'\n",
    "\n",
    "p = Person('Reuven')  # get an instance of Person, and assign to p\n",
    "print(type(p))        # use type as a function to get the type back\n"
   ]
  },
  {
   "cell_type": "code",
   "execution_count": 4,
   "id": "07f50864",
   "metadata": {},
   "outputs": [
    {
     "name": "stdout",
     "output_type": "stream",
     "text": [
      "<__main__.Person object at 0x104436bf0>\n"
     ]
    }
   ],
   "source": [
    "print(p)"
   ]
  },
  {
   "cell_type": "code",
   "execution_count": null,
   "id": "a25cc2c1",
   "metadata": {},
   "outputs": [],
   "source": []
  }
 ],
 "metadata": {
  "kernelspec": {
   "display_name": "Python 3 (ipykernel)",
   "language": "python",
   "name": "python3"
  },
  "language_info": {
   "codemirror_mode": {
    "name": "ipython",
    "version": 3
   },
   "file_extension": ".py",
   "mimetype": "text/x-python",
   "name": "python",
   "nbconvert_exporter": "python",
   "pygments_lexer": "ipython3",
   "version": "3.10.6"
  }
 },
 "nbformat": 4,
 "nbformat_minor": 5
}
