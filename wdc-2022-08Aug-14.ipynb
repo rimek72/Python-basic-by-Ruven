{
 "cells": [
  {
   "cell_type": "markdown",
   "id": "c84968c1",
   "metadata": {},
   "source": [
    "# Agenda\n",
    "\n",
    "1. Inheritance (`object`)\n",
    "2. Magic methods (`__str__`, `__repr__`)\n",
    "3. Exceptions\n",
    "4. Test"
   ]
  },
  {
   "cell_type": "code",
   "execution_count": null,
   "id": "c30b5d6d",
   "metadata": {},
   "outputs": [],
   "source": []
  }
 ],
 "metadata": {
  "kernelspec": {
   "display_name": "Python 3 (ipykernel)",
   "language": "python",
   "name": "python3"
  },
  "language_info": {
   "codemirror_mode": {
    "name": "ipython",
    "version": 3
   },
   "file_extension": ".py",
   "mimetype": "text/x-python",
   "name": "python",
   "nbconvert_exporter": "python",
   "pygments_lexer": "ipython3",
   "version": "3.10.6"
  }
 },
 "nbformat": 4,
 "nbformat_minor": 5
}
