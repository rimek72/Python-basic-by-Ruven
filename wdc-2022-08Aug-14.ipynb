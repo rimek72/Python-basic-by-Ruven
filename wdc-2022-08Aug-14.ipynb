{
 "cells": [
  {
   "cell_type": "markdown",
   "id": "c84968c1",
   "metadata": {},
   "source": [
    "# Agenda\n",
    "\n",
    "1. Recap/summary of objects\n",
    "2. Inheritance (`object`)\n",
    "3. Magic methods (`__len__`, `__str__`, `__repr__`)\n",
    "4. Exceptions\n",
    "5. Test"
   ]
  },
  {
   "cell_type": "markdown",
   "id": "f56b9c42",
   "metadata": {},
   "source": [
    "# Object-oriented words\n",
    "\n",
    "(Markdown -- creates HTML)\n",
    "\n",
    "- `class` or `type` -- both describe data types\n",
    "   - Use `class` to define a new class\n",
    "   - Use `type` to find out what kind of object something is\n",
    "   \n",
    "Example:\n",
    "\n",
    "```python\n",
    "class Person:  # use the keyword \"class\" to create a new class\n",
    "    def __init__(self, name):\n",
    "        self.name = name\n",
    "        \n",
    "    def greet(self):\n",
    "        return f'Hello, {self.name}!'\n",
    "\n",
    "p = Person('Reuven')  # get an instance of Person, and assign to p\n",
    "print(type(p))        # use type as a function to get the type back\n",
    "```        \n",
    "\n",
    "- The method `__init__` runs right after the new object, an instance of `Person`, is created.\n",
    "    - `__init__` is where we add new attributes\n",
    "    - The first parameter, `self`, refers to our instance\n",
    "    - `self` is always the first parameter\n",
    "- The method `greet` is a *class attribute* -- it's defined on `Person`, as `Person.greet`.\n",
    "    - I can run `Person.greet(p)`, and it'll work\n",
    "    - It's more usual to write `p.greet()` -- which is precisely the same thing, as far as Python is concerned\n",
    "- ICPO rule -- describes the lookup of attributes\n",
    "    - I: **Instance**\n",
    "    - C: Instance's **Class**\n",
    "    - P: **Parent** class\n",
    "    - O: **`object`**\n",
    "- When I call `p.greet()`, Python does the following:\n",
    "    - Does the instance `p` have the attribute `greet`? No.\n",
    "    - Does the instance `p`'s class, `Parent`, have the attribute `greet`? Yes."
   ]
  },
  {
   "cell_type": "code",
   "execution_count": 2,
   "id": "d98a78a1",
   "metadata": {},
   "outputs": [
    {
     "name": "stdout",
     "output_type": "stream",
     "text": [
      "Hello\n"
     ]
    }
   ],
   "source": [
    "# this is a code cell\n",
    "# y in command mode -- ESC y)\n",
    "\n",
    "print('Hello')"
   ]
  },
  {
   "cell_type": "markdown",
   "id": "ea1998ca",
   "metadata": {},
   "source": [
    "# This is a Markdown cell\n",
    "\n",
    "(M in command mode -- ESC m)\n",
    "\n",
    "- a\n",
    "- b\n",
    "- c, too"
   ]
  },
  {
   "cell_type": "code",
   "execution_count": 3,
   "id": "d6019e0c",
   "metadata": {},
   "outputs": [
    {
     "name": "stdout",
     "output_type": "stream",
     "text": [
      "<class '__main__.Person'>\n"
     ]
    }
   ],
   "source": [
    "class Person:  # use the keyword \"class\" to create a new class\n",
    "    def __init__(self, name):\n",
    "        self.name = name\n",
    "        \n",
    "    def greet(self):\n",
    "        return f'Hello, {self.name}!'\n",
    "\n",
    "p = Person('Reuven')  # get an instance of Person, and assign to p\n",
    "print(type(p))        # use type as a function to get the type back\n"
   ]
  },
  {
   "cell_type": "code",
   "execution_count": 5,
   "id": "0a5237ee",
   "metadata": {},
   "outputs": [
    {
     "name": "stdout",
     "output_type": "stream",
     "text": [
      "<__main__.Person object at 0x104436bf0>\n"
     ]
    }
   ],
   "source": [
    "print(p)    # printing an object gives you the address in memory WHICH YOU CANNOT ACCESS IN PYTHON"
   ]
  },
  {
   "cell_type": "code",
   "execution_count": 6,
   "id": "94c30c18",
   "metadata": {},
   "outputs": [
    {
     "data": {
      "text/plain": [
       "4366494704"
      ]
     },
     "execution_count": 6,
     "metadata": {},
     "output_type": "execute_result"
    }
   ],
   "source": [
    "0x104436bf0"
   ]
  },
  {
   "cell_type": "code",
   "execution_count": 7,
   "id": "370a0279",
   "metadata": {},
   "outputs": [
    {
     "data": {
      "text/plain": [
       "4366494704"
      ]
     },
     "execution_count": 7,
     "metadata": {},
     "output_type": "execute_result"
    }
   ],
   "source": [
    "id(p)   # what is p's unique ID number?"
   ]
  },
  {
   "cell_type": "markdown",
   "id": "0ff38794",
   "metadata": {},
   "source": [
    "# How does `print` work?\n",
    "\n",
    "When I run `print(p)` on a given `p` in Python, it runs `str` on its argument.  So it really runs `print(str(p))`.  Everything in Python knows how to turn itself into a string.\n",
    "\n",
    "`str(p)` is translated into `p.__str__()`, a method call.\n",
    "\n",
    "- Python asks: Does the instance, `p`, have `__str__`? No.\n",
    "- Python asks: Does `p`'s class, `Person`, have `__str__`? No.\n",
    "- Python asks: Does `object` have `__str__`?  YES!"
   ]
  },
  {
   "cell_type": "code",
   "execution_count": 8,
   "id": "a03d4ce4",
   "metadata": {},
   "outputs": [
    {
     "data": {
      "text/plain": [
       "(object,)"
      ]
     },
     "execution_count": 8,
     "metadata": {},
     "output_type": "execute_result"
    }
   ],
   "source": [
    "Person.__bases__   # who does Person inherit from?"
   ]
  },
  {
   "cell_type": "code",
   "execution_count": 9,
   "id": "94e2ea07",
   "metadata": {},
   "outputs": [
    {
     "name": "stdout",
     "output_type": "stream",
     "text": [
      "<class '__main__.Person'>\n"
     ]
    }
   ],
   "source": [
    "class Person:  # use the keyword \"class\" to create a new class\n",
    "    def __init__(self, name):\n",
    "        self.name = name\n",
    "        \n",
    "    def greet(self):\n",
    "        return f'Hello, {self.name}!'\n",
    "    \n",
    "    def __str__(self):   # dunder str -- double underscore + str\n",
    "        return f'I am a person named {self.name}'\n",
    "\n",
    "p = Person('Reuven')  # get an instance of Person, and assign to p\n",
    "print(type(p))        # use type as a function to get the type back\n"
   ]
  },
  {
   "cell_type": "code",
   "execution_count": 10,
   "id": "5c19d1e8",
   "metadata": {},
   "outputs": [
    {
     "name": "stdout",
     "output_type": "stream",
     "text": [
      "I am a person named Reuven\n"
     ]
    }
   ],
   "source": [
    "print(p)"
   ]
  },
  {
   "cell_type": "markdown",
   "id": "6e5a92cd",
   "metadata": {},
   "source": [
    "- Python asks: Does the instance, `p`, have `__str__`? No.\n",
    "- Python asks: Does `p`'s class, `Person`, have `__str__`? Yes, and that runs."
   ]
  },
  {
   "cell_type": "code",
   "execution_count": 17,
   "id": "014d2a24",
   "metadata": {},
   "outputs": [],
   "source": [
    "class Phone:\n",
    "    def __init__(self, brand, model):\n",
    "        self.brand = brand\n",
    "        self.model = model\n",
    "        \n",
    "    def __str__(self):\n",
    "        return f'I am a phone from {self.brand}, model {self.model}'\n",
    "    \n",
    "    def self_report(self):\n",
    "        return f'I am:{self}'\n",
    "    \n",
    "ph = Phone('Samsung', 'G20')    "
   ]
  },
  {
   "cell_type": "code",
   "execution_count": 18,
   "id": "af3150aa",
   "metadata": {},
   "outputs": [
    {
     "name": "stdout",
     "output_type": "stream",
     "text": [
      "I am a person named Reuven\n"
     ]
    }
   ],
   "source": [
    "print(p)   # p.__str__() -> Person.__str__()  "
   ]
  },
  {
   "cell_type": "code",
   "execution_count": 19,
   "id": "b68211f3",
   "metadata": {},
   "outputs": [
    {
     "name": "stdout",
     "output_type": "stream",
     "text": [
      "I am a phone from Samsung, model G20\n"
     ]
    }
   ],
   "source": [
    "print(ph)  # ph.__str__() -> Phone.__str__()"
   ]
  },
  {
   "cell_type": "code",
   "execution_count": 20,
   "id": "55f27585",
   "metadata": {},
   "outputs": [
    {
     "data": {
      "text/plain": [
       "'I am a person named Reuven'"
      ]
     },
     "execution_count": 20,
     "metadata": {},
     "output_type": "execute_result"
    }
   ],
   "source": [
    "str(p)"
   ]
  },
  {
   "cell_type": "code",
   "execution_count": 21,
   "id": "a3da66e3",
   "metadata": {},
   "outputs": [
    {
     "data": {
      "text/plain": [
       "'I am:I am a phone from Samsung, model G20'"
      ]
     },
     "execution_count": 21,
     "metadata": {},
     "output_type": "execute_result"
    }
   ],
   "source": [
    "ph.self_report()"
   ]
  },
  {
   "cell_type": "markdown",
   "id": "27e244b0",
   "metadata": {},
   "source": [
    "# `object`\n",
    "\n",
    "`object` is the class that every class (eventually) inherits from. `object` is where default methods live: `__str__`, `__new__` (which creates objects)."
   ]
  },
  {
   "cell_type": "code",
   "execution_count": 22,
   "id": "e100f313",
   "metadata": {},
   "outputs": [
    {
     "data": {
      "text/plain": [
       "['__class__',\n",
       " '__delattr__',\n",
       " '__dir__',\n",
       " '__doc__',\n",
       " '__eq__',\n",
       " '__format__',\n",
       " '__ge__',\n",
       " '__getattribute__',\n",
       " '__gt__',\n",
       " '__hash__',\n",
       " '__init__',\n",
       " '__init_subclass__',\n",
       " '__le__',\n",
       " '__lt__',\n",
       " '__ne__',\n",
       " '__new__',\n",
       " '__reduce__',\n",
       " '__reduce_ex__',\n",
       " '__repr__',\n",
       " '__setattr__',\n",
       " '__sizeof__',\n",
       " '__str__',\n",
       " '__subclasshook__']"
      ]
     },
     "execution_count": 22,
     "metadata": {},
     "output_type": "execute_result"
    }
   ],
   "source": [
    "dir(object)"
   ]
  },
  {
   "cell_type": "code",
   "execution_count": 23,
   "id": "b8a79a10",
   "metadata": {},
   "outputs": [
    {
     "name": "stdout",
     "output_type": "stream",
     "text": [
      "I am a person named Reuven\n"
     ]
    }
   ],
   "source": [
    "print(p) # works!"
   ]
  },
  {
   "cell_type": "code",
   "execution_count": 25,
   "id": "9e9ee796",
   "metadata": {},
   "outputs": [
    {
     "data": {
      "text/plain": [
       "<__main__.Person at 0x104437e20>"
      ]
     },
     "execution_count": 25,
     "metadata": {},
     "output_type": "execute_result"
    }
   ],
   "source": [
    "p    # __repr__ is called, because we're in Jupyter"
   ]
  },
  {
   "cell_type": "markdown",
   "id": "d642a7e7",
   "metadata": {},
   "source": [
    "# Two ways to turn an object into a string\n",
    "\n",
    "- `__str__` -- Meant for end users\n",
    "- `__repr__`  -- Meant for developers, using Jupyter/debugger/etc.\n",
    "\n",
    "- If I define `__repr__`, then it covers `__str__` (if `__str__` isn't written)\n",
    "- If I define just `__str__`, then it does **not** cover `__repr__` (if it isn't written)\n",
    "\n",
    "My suggestion: Always write `__repr__`, and then (if you need to) write `__str__`."
   ]
  },
  {
   "cell_type": "code",
   "execution_count": 26,
   "id": "315a8e2c",
   "metadata": {},
   "outputs": [],
   "source": [
    "class Person:  # use the keyword \"class\" to create a new class\n",
    "    def __init__(self, name):\n",
    "        self.name = name\n",
    "        \n",
    "    def greet(self):\n",
    "        return f'Hello, {self.name}!'\n",
    "    \n",
    "    def __repr__(self):   # define __repr__, which covers __str__ automatically\n",
    "        return f'I am a person named {self.name}'\n",
    "\n",
    "p = Person('Reuven')  # get an instance of Person, and assign to p\n"
   ]
  },
  {
   "cell_type": "code",
   "execution_count": 27,
   "id": "32871227",
   "metadata": {},
   "outputs": [
    {
     "name": "stdout",
     "output_type": "stream",
     "text": [
      "I am a person named Reuven\n"
     ]
    }
   ],
   "source": [
    "print(p)"
   ]
  },
  {
   "cell_type": "code",
   "execution_count": 28,
   "id": "f238e836",
   "metadata": {},
   "outputs": [
    {
     "data": {
      "text/plain": [
       "I am a person named Reuven"
      ]
     },
     "execution_count": 28,
     "metadata": {},
     "output_type": "execute_result"
    }
   ],
   "source": [
    "p"
   ]
  },
  {
   "cell_type": "markdown",
   "id": "4ffeff9a",
   "metadata": {},
   "source": [
    "# Exercise: Print ice cream\n",
    "\n",
    "1. Modify `Scoop`, such that if we `print` an instance of `Scoop`, we'll see its flavor:\n",
    "\n",
    "```python\n",
    "print(s1)   # Scoop of chocolate\n",
    "```\n",
    "\n",
    "2. Modify `Bowl`, such that printing an instance of `Bowl` will print the following:\n",
    "\n",
    "```\n",
    "Bowl of:\n",
    "    1. Scoop of chocolate\n",
    "    2. Scoop of vanilla\n",
    "    3. Scoop of coffee\n",
    "```"
   ]
  },
  {
   "cell_type": "code",
   "execution_count": 29,
   "id": "0ee4c0cd",
   "metadata": {},
   "outputs": [
    {
     "data": {
      "text/plain": [
       "5"
      ]
     },
     "execution_count": 29,
     "metadata": {},
     "output_type": "execute_result"
    }
   ],
   "source": [
    "s = 'abcde'\n",
    "\n",
    "len(s)"
   ]
  },
  {
   "cell_type": "code",
   "execution_count": 30,
   "id": "621e53ae",
   "metadata": {},
   "outputs": [
    {
     "ename": "TypeError",
     "evalue": "object of type 'Person' has no len()",
     "output_type": "error",
     "traceback": [
      "\u001b[0;31m---------------------------------------------------------------------------\u001b[0m",
      "\u001b[0;31mTypeError\u001b[0m                                 Traceback (most recent call last)",
      "\u001b[0;32m/var/folders/rr/0mnyyv811fs5vyp22gf4fxk00000gn/T/ipykernel_40732/2016623258.py\u001b[0m in \u001b[0;36m<module>\u001b[0;34m\u001b[0m\n\u001b[0;32m----> 1\u001b[0;31m \u001b[0mlen\u001b[0m\u001b[0;34m(\u001b[0m\u001b[0mp\u001b[0m\u001b[0;34m)\u001b[0m\u001b[0;34m\u001b[0m\u001b[0;34m\u001b[0m\u001b[0m\n\u001b[0m",
      "\u001b[0;31mTypeError\u001b[0m: object of type 'Person' has no len()"
     ]
    }
   ],
   "source": [
    "len(p)  "
   ]
  },
  {
   "cell_type": "code",
   "execution_count": 33,
   "id": "03407cef",
   "metadata": {},
   "outputs": [],
   "source": [
    "class Person:  # use the keyword \"class\" to create a new class\n",
    "    def __init__(self, name):\n",
    "        self.name = name\n",
    "        \n",
    "    def greet(self):\n",
    "        return f'Hello, {self.name}!'\n",
    "    \n",
    "    def __repr__(self):   # define __repr__, which covers __str__ automatically\n",
    "        return f'I am a person named {self.name}'\n",
    "    \n",
    "    def __len__(self):   \n",
    "        return 20\n",
    "        # return len(self.name)  # how long is the person's name?\n",
    "\n",
    "p = Person('Reuven')  # get an instance of Person, and assign to p\n"
   ]
  },
  {
   "cell_type": "code",
   "execution_count": 34,
   "id": "7468baa3",
   "metadata": {},
   "outputs": [
    {
     "data": {
      "text/plain": [
       "20"
      ]
     },
     "execution_count": 34,
     "metadata": {},
     "output_type": "execute_result"
    }
   ],
   "source": [
    "len(p)"
   ]
  },
  {
   "cell_type": "code",
   "execution_count": 35,
   "id": "9b4d339f",
   "metadata": {},
   "outputs": [
    {
     "ename": "TypeError",
     "evalue": "object of type 'int' has no len()",
     "output_type": "error",
     "traceback": [
      "\u001b[0;31m---------------------------------------------------------------------------\u001b[0m",
      "\u001b[0;31mTypeError\u001b[0m                                 Traceback (most recent call last)",
      "\u001b[0;32m/var/folders/rr/0mnyyv811fs5vyp22gf4fxk00000gn/T/ipykernel_40732/4108502181.py\u001b[0m in \u001b[0;36m<module>\u001b[0;34m\u001b[0m\n\u001b[0;32m----> 1\u001b[0;31m \u001b[0mlen\u001b[0m\u001b[0;34m(\u001b[0m\u001b[0;36m5\u001b[0m\u001b[0;34m)\u001b[0m\u001b[0;34m\u001b[0m\u001b[0;34m\u001b[0m\u001b[0m\n\u001b[0m",
      "\u001b[0;31mTypeError\u001b[0m: object of type 'int' has no len()"
     ]
    }
   ],
   "source": [
    "len(5)"
   ]
  },
  {
   "cell_type": "code",
   "execution_count": 36,
   "id": "34355445",
   "metadata": {},
   "outputs": [],
   "source": [
    "p1 = Person('myname')\n",
    "p2 = Person('myname')"
   ]
  },
  {
   "cell_type": "code",
   "execution_count": 37,
   "id": "c4052878",
   "metadata": {},
   "outputs": [
    {
     "data": {
      "text/plain": [
       "False"
      ]
     },
     "execution_count": 37,
     "metadata": {},
     "output_type": "execute_result"
    }
   ],
   "source": [
    "p1 == p2    #  --> p1.__eq__(p2)"
   ]
  },
  {
   "cell_type": "code",
   "execution_count": 42,
   "id": "b69dc1d4",
   "metadata": {},
   "outputs": [
    {
     "data": {
      "text/plain": [
       "True"
      ]
     },
     "execution_count": 42,
     "metadata": {},
     "output_type": "execute_result"
    }
   ],
   "source": [
    "class Person:  # use the keyword \"class\" to create a new class\n",
    "    def __init__(self, name):\n",
    "        self.name = name\n",
    "        \n",
    "    def greet(self):\n",
    "        return f'Hello, {self.name}!'\n",
    "    \n",
    "    def __repr__(self):   # define __repr__, which covers __str__ automatically\n",
    "        return f'I am a person named {self.name}'\n",
    "    \n",
    "    def __len__(self):   \n",
    "        return 20\n",
    "        # return len(self.name)  # how long is the person's name?\n",
    "        \n",
    "    def __eq__(self, other):\n",
    "        if hasattr(other, 'name'):    # here, I use duck typing -- if it has a name attribute, compare with it\n",
    "            return self.name == other.name\n",
    "        \n",
    "        return False\n",
    "\n",
    "p1 = Person('myname')\n",
    "p2 = Person('myname')\n",
    "\n",
    "p1 == p2   # p1.__eq__(p2) --> Person.__eq__(p1, p2)"
   ]
  },
  {
   "cell_type": "code",
   "execution_count": 43,
   "id": "ca2650e2",
   "metadata": {},
   "outputs": [
    {
     "data": {
      "text/plain": [
       "False"
      ]
     },
     "execution_count": 43,
     "metadata": {},
     "output_type": "execute_result"
    }
   ],
   "source": [
    "p1 == 5"
   ]
  },
  {
   "cell_type": "code",
   "execution_count": 44,
   "id": "5de9de72",
   "metadata": {},
   "outputs": [
    {
     "data": {
      "text/plain": [
       "False"
      ]
     },
     "execution_count": 44,
     "metadata": {},
     "output_type": "execute_result"
    }
   ],
   "source": [
    "p1 == [10, 20, 30]"
   ]
  },
  {
   "cell_type": "markdown",
   "id": "aaabbaa2",
   "metadata": {},
   "source": [
    "# Exercise:\n",
    "\n",
    "1. Make it so that running `len` on a `Bowl` instance tells us how many scoops are in it.\n",
    "2. Make it so that comparing two bowls will return `True` or `False`.  We care if the same flavors are in the same order."
   ]
  },
  {
   "cell_type": "markdown",
   "id": "54fa0f68",
   "metadata": {},
   "source": [
    "# Exceptions"
   ]
  },
  {
   "cell_type": "code",
   "execution_count": 46,
   "id": "b4e8c0d6",
   "metadata": {},
   "outputs": [
    {
     "ename": "IndexError",
     "evalue": "list index out of range",
     "output_type": "error",
     "traceback": [
      "\u001b[0;31m---------------------------------------------------------------------------\u001b[0m",
      "\u001b[0;31mIndexError\u001b[0m                                Traceback (most recent call last)",
      "\u001b[0;32m/var/folders/rr/0mnyyv811fs5vyp22gf4fxk00000gn/T/ipykernel_40732/1362420655.py\u001b[0m in \u001b[0;36m<module>\u001b[0;34m\u001b[0m\n\u001b[1;32m      1\u001b[0m \u001b[0mmylist\u001b[0m \u001b[0;34m=\u001b[0m \u001b[0;34m[\u001b[0m\u001b[0;36m10\u001b[0m\u001b[0;34m,\u001b[0m \u001b[0;36m20\u001b[0m\u001b[0;34m,\u001b[0m \u001b[0;36m30\u001b[0m\u001b[0;34m]\u001b[0m\u001b[0;34m\u001b[0m\u001b[0;34m\u001b[0m\u001b[0m\n\u001b[1;32m      2\u001b[0m \u001b[0;34m\u001b[0m\u001b[0m\n\u001b[0;32m----> 3\u001b[0;31m \u001b[0mx\u001b[0m \u001b[0;34m=\u001b[0m \u001b[0mmylist\u001b[0m\u001b[0;34m[\u001b[0m\u001b[0;36m9999\u001b[0m\u001b[0;34m]\u001b[0m\u001b[0;34m\u001b[0m\u001b[0;34m\u001b[0m\u001b[0m\n\u001b[0m",
      "\u001b[0;31mIndexError\u001b[0m: list index out of range"
     ]
    }
   ],
   "source": [
    "mylist = [10, 20, 30]\n",
    "\n",
    "x = mylist[9999]"
   ]
  },
  {
   "cell_type": "code",
   "execution_count": 47,
   "id": "aeaa6059",
   "metadata": {},
   "outputs": [
    {
     "ename": "NameError",
     "evalue": "name 'x' is not defined",
     "output_type": "error",
     "traceback": [
      "\u001b[0;31m---------------------------------------------------------------------------\u001b[0m",
      "\u001b[0;31mNameError\u001b[0m                                 Traceback (most recent call last)",
      "\u001b[0;32m/var/folders/rr/0mnyyv811fs5vyp22gf4fxk00000gn/T/ipykernel_40732/32546335.py\u001b[0m in \u001b[0;36m<module>\u001b[0;34m\u001b[0m\n\u001b[0;32m----> 1\u001b[0;31m \u001b[0mx\u001b[0m\u001b[0;34m\u001b[0m\u001b[0;34m\u001b[0m\u001b[0m\n\u001b[0m",
      "\u001b[0;31mNameError\u001b[0m: name 'x' is not defined"
     ]
    }
   ],
   "source": [
    "x"
   ]
  },
  {
   "cell_type": "code",
   "execution_count": 48,
   "id": "1bf796bb",
   "metadata": {},
   "outputs": [
    {
     "name": "stdout",
     "output_type": "stream",
     "text": [
      "There was a problem\n"
     ]
    }
   ],
   "source": [
    "# don't do this -- to general\n",
    "\n",
    "mylist = [10, 20, 30]\n",
    "\n",
    "try:\n",
    "    x = mylist[9999]\n",
    "except:\n",
    "    print('There was a problem')"
   ]
  },
  {
   "cell_type": "code",
   "execution_count": null,
   "id": "c9885a40",
   "metadata": {},
   "outputs": [],
   "source": [
    "mylist = [10, 20, 30]\n",
    "\n",
    "try:\n",
    "    x = mylist[9999]\n",
    "except IndexError as e:   # did we encounter an indexing problem in the \"try\" block?\n",
    "    print(f'There was a problem: {e}')     # e is the instance of the exception --"
   ]
  }
 ],
 "metadata": {
  "kernelspec": {
   "display_name": "Python 3 (ipykernel)",
   "language": "python",
   "name": "python3"
  },
  "language_info": {
   "codemirror_mode": {
    "name": "ipython",
    "version": 3
   },
   "file_extension": ".py",
   "mimetype": "text/x-python",
   "name": "python",
   "nbconvert_exporter": "python",
   "pygments_lexer": "ipython3",
   "version": "3.10.6"
  }
 },
 "nbformat": 4,
 "nbformat_minor": 5
}
