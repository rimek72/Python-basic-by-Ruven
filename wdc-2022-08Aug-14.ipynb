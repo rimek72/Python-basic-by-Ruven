{
 "cells": [
  {
   "cell_type": "markdown",
   "id": "c84968c1",
   "metadata": {},
   "source": [
    "# Agenda\n",
    "\n",
    "1. Recap/summary of objects\n",
    "2. Inheritance (`object`)\n",
    "3. Magic methods (`__len__`, `__str__`, `__repr__`)\n",
    "4. Exceptions\n",
    "5. Test"
   ]
  },
  {
   "cell_type": "markdown",
   "id": "78c43abb",
   "metadata": {},
   "source": [
    "# Object-oriented words\n",
    "\n",
    "(Markdown -- creates HTML)\n",
    "\n",
    "- `class` or `type` -- both describe data types\n",
    "   - Use `class` to define a new class\n",
    "   - Use `type` to find out what kind of object something is\n",
    "   \n",
    "Example:\n",
    "\n",
    "```python\n",
    "class Person:  # use the keyword \"class\" to create a new class\n",
    "    def __init__(self, name):\n",
    "        self.name = name\n",
    "        \n",
    "    def greet(self):\n",
    "        return f'Hello, {self.name}!'\n",
    "\n",
    "p = Person('Reuven')  # get an instance of Person, and assign to p\n",
    "print(type(p))        # use type as a function to get the type back\n",
    "```        \n",
    "\n",
    "- The method `__init__` runs right after the new object, an instance of `Person`, is created.\n",
    "    - `__init__` is where we add new attributes\n",
    "    - The first parameter, `self`, refers to our instance\n",
    "    - `self` is always the first parameter\n",
    "- The method `greet` is a *class attribute* -- it's defined on `Person`, as `Person.greet`.\n",
    "    - I can run `Person.greet(p)`, and it'll work\n",
    "    - It's more usual to write `p.greet()` -- which is precisely the same thing, as far as Python is concerned\n",
    "- ICPO rule -- describes the lookup of attributes\n",
    "    - I: **Instance**\n",
    "    - C: Instance's **Class**\n",
    "    - P: **Parent** class\n",
    "    - O: **`object`**\n",
    "- When I call `p.greet()`, Python does the following:\n",
    "    - Does the instance `p` have the attribute `greet`? No.\n",
    "    - Does the instance `p`'s class, `Parent`, have the attribute `greet`? Yes."
   ]
  },
  {
   "cell_type": "code",
   "execution_count": 2,
   "id": "ff4f530a",
   "metadata": {},
   "outputs": [
    {
     "name": "stdout",
     "output_type": "stream",
     "text": [
      "Hello\n"
     ]
    }
   ],
   "source": [
    "# this is a code cell\n",
    "# y in command mode -- ESC y)\n",
    "\n",
    "print('Hello')"
   ]
  },
  {
   "cell_type": "markdown",
   "id": "a0331c4e",
   "metadata": {},
   "source": [
    "# This is a Markdown cell\n",
    "\n",
    "(M in command mode -- ESC m)\n",
    "\n",
    "- a\n",
    "- b\n",
    "- c, too"
   ]
  },
  {
   "cell_type": "code",
   "execution_count": 3,
   "id": "875abf99",
   "metadata": {},
   "outputs": [
    {
     "name": "stdout",
     "output_type": "stream",
     "text": [
      "<class '__main__.Person'>\n"
     ]
    }
   ],
   "source": [
    "class Person:  # use the keyword \"class\" to create a new class\n",
    "    def __init__(self, name):\n",
    "        self.name = name\n",
    "        \n",
    "    def greet(self):\n",
    "        return f'Hello, {self.name}!'\n",
    "\n",
    "p = Person('Reuven')  # get an instance of Person, and assign to p\n",
    "print(type(p))        # use type as a function to get the type back\n"
   ]
  },
  {
   "cell_type": "code",
   "execution_count": 5,
   "id": "447a4fc8",
   "metadata": {},
   "outputs": [
    {
     "name": "stdout",
     "output_type": "stream",
     "text": [
      "<__main__.Person object at 0x104436bf0>\n"
     ]
    }
   ],
   "source": [
    "print(p)    # printing an object gives you the address in memory WHICH YOU CANNOT ACCESS IN PYTHON"
   ]
  },
  {
   "cell_type": "code",
   "execution_count": 6,
   "id": "5d2060a6",
   "metadata": {},
   "outputs": [
    {
     "data": {
      "text/plain": [
       "4366494704"
      ]
     },
     "execution_count": 6,
     "metadata": {},
     "output_type": "execute_result"
    }
   ],
   "source": [
    "0x104436bf0"
   ]
  },
  {
   "cell_type": "code",
   "execution_count": 7,
   "id": "3fe23b7e",
   "metadata": {},
   "outputs": [
    {
     "data": {
      "text/plain": [
       "4366494704"
      ]
     },
     "execution_count": 7,
     "metadata": {},
     "output_type": "execute_result"
    }
   ],
   "source": [
    "id(p)   # what is p's unique ID number?"
   ]
  },
  {
   "cell_type": "markdown",
   "id": "5d012a35",
   "metadata": {},
   "source": [
    "# How does `print` work?\n",
    "\n",
    "When I run `print(p)` on a given `p` in Python, it runs `str` on its argument.  So it really runs `print(str(p))`.  Everything in Python knows how to turn itself into a string.\n",
    "\n",
    "`str(p)` is translated into `p.__str__()`, a method call.\n",
    "\n",
    "- Python asks: Does the instance, `p`, have `__str__`? No.\n",
    "- Python asks: Does `p`'s class, `Person`, have `__str__`? No.\n",
    "- Python asks: Does `object` have `__str__`?  YES!"
   ]
  },
  {
   "cell_type": "code",
   "execution_count": 8,
   "id": "cefec3dd",
   "metadata": {},
   "outputs": [
    {
     "data": {
      "text/plain": [
       "(object,)"
      ]
     },
     "execution_count": 8,
     "metadata": {},
     "output_type": "execute_result"
    }
   ],
   "source": [
    "Person.__bases__   # who does Person inherit from?"
   ]
  },
  {
   "cell_type": "code",
   "execution_count": 9,
   "id": "8e118603",
   "metadata": {},
   "outputs": [
    {
     "name": "stdout",
     "output_type": "stream",
     "text": [
      "<class '__main__.Person'>\n"
     ]
    }
   ],
   "source": [
    "class Person:  # use the keyword \"class\" to create a new class\n",
    "    def __init__(self, name):\n",
    "        self.name = name\n",
    "        \n",
    "    def greet(self):\n",
    "        return f'Hello, {self.name}!'\n",
    "    \n",
    "    def __str__(self):\n",
    "        return f'I am a person named {self.name}'\n",
    "\n",
    "p = Person('Reuven')  # get an instance of Person, and assign to p\n",
    "print(type(p))        # use type as a function to get the type back\n"
   ]
  },
  {
   "cell_type": "code",
   "execution_count": 10,
   "id": "9607cb55",
   "metadata": {},
   "outputs": [
    {
     "name": "stdout",
     "output_type": "stream",
     "text": [
      "I am a person named Reuven\n"
     ]
    }
   ],
   "source": [
    "print(p)"
   ]
  },
  {
   "cell_type": "code",
   "execution_count": null,
   "id": "504cd55f",
   "metadata": {},
   "outputs": [],
   "source": [
    "- Python asks: Does the instance, `p`, have `__str__`? No.\n",
    "- Python asks: Does `p`'s class, `Person`, have `__str__`? No.\n",
    "- Python asks: Does `object` have `__str__`?  YES!"
   ]
  }
 ],
 "metadata": {
  "kernelspec": {
   "display_name": "Python 3 (ipykernel)",
   "language": "python",
   "name": "python3"
  },
  "language_info": {
   "codemirror_mode": {
    "name": "ipython",
    "version": 3
   },
   "file_extension": ".py",
   "mimetype": "text/x-python",
   "name": "python",
   "nbconvert_exporter": "python",
   "pygments_lexer": "ipython3",
   "version": "3.10.6"
  }
 },
 "nbformat": 4,
 "nbformat_minor": 5
}
