{
 "cells": [
  {
   "cell_type": "markdown",
   "id": "c84968c1",
   "metadata": {},
   "source": [
    "# Agenda\n",
    "\n",
    "1. Recap/summary of objects\n",
    "2. Inheritance (`object`)\n",
    "3. Magic methods (`__len__`, `__str__`, `__repr__`)\n",
    "4. Exceptions\n",
    "5. Test"
   ]
  },
  {
   "cell_type": "markdown",
   "id": "cb72d0d7",
   "metadata": {},
   "source": [
    "# Object-oriented words\n",
    "\n",
    "(Markdown -- creates HTML)\n",
    "\n",
    "- `class` or `type` -- both describe data types\n",
    "   - Use `class` to define a new class\n",
    "   - Use `type` to find out what kind of object something is\n",
    "   \n",
    "Example:\n",
    "\n",
    "```python\n",
    "class Person:  # use the keyword \"class\" to create a new class\n",
    "    def __init__(self, name):\n",
    "        self.name = name\n",
    "        \n",
    "    def greet(self):\n",
    "        return f'Hello, {self.name}!'\n",
    "\n",
    "p = Person('Reuven')  # get an instance of Person, and assign to p\n",
    "print(type(p))        # use type as a function to get the type back\n",
    "```        \n",
    "\n",
    "- The method `__init__` runs right after the new object, an instance of `Person`, is created.\n",
    "    - `__init__` is where we add new attributes\n",
    "    - The first parameter, `self`, refers to our instance\n",
    "    - `self` is always the first parameter\n",
    "- The method `greet` is a *class attribute* -- it's defined on `Person`, as `Person.greet`.\n",
    "    - I can run `Person.greet(p)`, and it'll work\n",
    "    - It's more usual to write `p.greet()` -- which is precisely the same thing, as far as Python is concerned\n",
    "- ICPO rule -- describes the lookup of attributes\n",
    "    - I: **Instance**\n",
    "    - C: Instance's **Class**\n",
    "    - P: **Parent** class\n",
    "    - O: **`object`**\n",
    "- When I call `p.greet()`, Python does the following:\n",
    "    - Does the instance `p` have the attribute `greet`? No.\n",
    "    - Does the instance `p`'s class, `Parent`, have the attribute `greet`? Yes."
   ]
  },
  {
   "cell_type": "code",
   "execution_count": 2,
   "id": "22eeec3e",
   "metadata": {},
   "outputs": [
    {
     "name": "stdout",
     "output_type": "stream",
     "text": [
      "Hello\n"
     ]
    }
   ],
   "source": [
    "# this is a code cell\n",
    "# y in command mode -- ESC y)\n",
    "\n",
    "print('Hello')"
   ]
  },
  {
   "cell_type": "markdown",
   "id": "39095d0c",
   "metadata": {},
   "source": [
    "# This is a Markdown cell\n",
    "\n",
    "(M in command mode -- ESC m)\n",
    "\n",
    "- a\n",
    "- b\n",
    "- c, too"
   ]
  },
  {
   "cell_type": "code",
   "execution_count": 3,
   "id": "5657ea34",
   "metadata": {},
   "outputs": [
    {
     "name": "stdout",
     "output_type": "stream",
     "text": [
      "<class '__main__.Person'>\n"
     ]
    }
   ],
   "source": [
    "class Person:  # use the keyword \"class\" to create a new class\n",
    "    def __init__(self, name):\n",
    "        self.name = name\n",
    "        \n",
    "    def greet(self):\n",
    "        return f'Hello, {self.name}!'\n",
    "\n",
    "p = Person('Reuven')  # get an instance of Person, and assign to p\n",
    "print(type(p))        # use type as a function to get the type back\n"
   ]
  },
  {
   "cell_type": "code",
   "execution_count": 5,
   "id": "8e5ee5b1",
   "metadata": {},
   "outputs": [
    {
     "name": "stdout",
     "output_type": "stream",
     "text": [
      "<__main__.Person object at 0x104436bf0>\n"
     ]
    }
   ],
   "source": [
    "print(p)    # printing an object gives you the address in memory WHICH YOU CANNOT ACCESS IN PYTHON"
   ]
  },
  {
   "cell_type": "code",
   "execution_count": 6,
   "id": "b1b0ed4e",
   "metadata": {},
   "outputs": [
    {
     "data": {
      "text/plain": [
       "4366494704"
      ]
     },
     "execution_count": 6,
     "metadata": {},
     "output_type": "execute_result"
    }
   ],
   "source": [
    "0x104436bf0"
   ]
  },
  {
   "cell_type": "code",
   "execution_count": 7,
   "id": "e3dc2295",
   "metadata": {},
   "outputs": [
    {
     "data": {
      "text/plain": [
       "4366494704"
      ]
     },
     "execution_count": 7,
     "metadata": {},
     "output_type": "execute_result"
    }
   ],
   "source": [
    "id(p)   # what is p's unique ID number?"
   ]
  },
  {
   "cell_type": "markdown",
   "id": "ca49b28f",
   "metadata": {},
   "source": [
    "# How does `print` work?\n",
    "\n",
    "When I run `print(p)` on a given `p` in Python, it runs `str` on its argument.  So it really runs `print(str(p))`.  Everything in Python knows how to turn itself into a string.\n",
    "\n",
    "`str(p)` is translated into `p.__str__()`, a method call.\n",
    "\n",
    "- Python asks: Does the instance, `p`, have `__str__`? No.\n",
    "- Python asks: Does `p`'s class, `Person`, have `__str__`? No.\n",
    "- Python asks: Does `object` have `__str__`?  YES!"
   ]
  },
  {
   "cell_type": "code",
   "execution_count": 8,
   "id": "89000b61",
   "metadata": {},
   "outputs": [
    {
     "data": {
      "text/plain": [
       "(object,)"
      ]
     },
     "execution_count": 8,
     "metadata": {},
     "output_type": "execute_result"
    }
   ],
   "source": [
    "Person.__bases__   # who does Person inherit from?"
   ]
  },
  {
   "cell_type": "code",
   "execution_count": 9,
   "id": "bb013b04",
   "metadata": {},
   "outputs": [
    {
     "name": "stdout",
     "output_type": "stream",
     "text": [
      "<class '__main__.Person'>\n"
     ]
    }
   ],
   "source": [
    "class Person:  # use the keyword \"class\" to create a new class\n",
    "    def __init__(self, name):\n",
    "        self.name = name\n",
    "        \n",
    "    def greet(self):\n",
    "        return f'Hello, {self.name}!'\n",
    "    \n",
    "    def __str__(self):   # dunder str -- double underscore + str\n",
    "        return f'I am a person named {self.name}'\n",
    "\n",
    "p = Person('Reuven')  # get an instance of Person, and assign to p\n",
    "print(type(p))        # use type as a function to get the type back\n"
   ]
  },
  {
   "cell_type": "code",
   "execution_count": 10,
   "id": "a96ab03d",
   "metadata": {},
   "outputs": [
    {
     "name": "stdout",
     "output_type": "stream",
     "text": [
      "I am a person named Reuven\n"
     ]
    }
   ],
   "source": [
    "print(p)"
   ]
  },
  {
   "cell_type": "markdown",
   "id": "c427a186",
   "metadata": {},
   "source": [
    "- Python asks: Does the instance, `p`, have `__str__`? No.\n",
    "- Python asks: Does `p`'s class, `Person`, have `__str__`? Yes, and that runs."
   ]
  },
  {
   "cell_type": "code",
   "execution_count": 17,
   "id": "3fd2f102",
   "metadata": {},
   "outputs": [],
   "source": [
    "class Phone:\n",
    "    def __init__(self, brand, model):\n",
    "        self.brand = brand\n",
    "        self.model = model\n",
    "        \n",
    "    def __str__(self):\n",
    "        return f'I am a phone from {self.brand}, model {self.model}'\n",
    "    \n",
    "    def self_report(self):\n",
    "        return f'I am:{self}'\n",
    "    \n",
    "ph = Phone('Samsung', 'G20')    "
   ]
  },
  {
   "cell_type": "code",
   "execution_count": 18,
   "id": "9b2fbe18",
   "metadata": {},
   "outputs": [
    {
     "name": "stdout",
     "output_type": "stream",
     "text": [
      "I am a person named Reuven\n"
     ]
    }
   ],
   "source": [
    "print(p)   # p.__str__() -> Person.__str__()  "
   ]
  },
  {
   "cell_type": "code",
   "execution_count": 19,
   "id": "cea1cc83",
   "metadata": {},
   "outputs": [
    {
     "name": "stdout",
     "output_type": "stream",
     "text": [
      "I am a phone from Samsung, model G20\n"
     ]
    }
   ],
   "source": [
    "print(ph)  # ph.__str__() -> Phone.__str__()"
   ]
  },
  {
   "cell_type": "code",
   "execution_count": 20,
   "id": "027621dc",
   "metadata": {},
   "outputs": [
    {
     "data": {
      "text/plain": [
       "'I am a person named Reuven'"
      ]
     },
     "execution_count": 20,
     "metadata": {},
     "output_type": "execute_result"
    }
   ],
   "source": [
    "str(p)"
   ]
  },
  {
   "cell_type": "code",
   "execution_count": 21,
   "id": "f9b030b2",
   "metadata": {},
   "outputs": [
    {
     "data": {
      "text/plain": [
       "'I am:I am a phone from Samsung, model G20'"
      ]
     },
     "execution_count": 21,
     "metadata": {},
     "output_type": "execute_result"
    }
   ],
   "source": [
    "ph.self_report()"
   ]
  },
  {
   "cell_type": "markdown",
   "id": "785f7c25",
   "metadata": {},
   "source": [
    "# `object`\n",
    "\n",
    "`object` is the class that every class (eventually) inherits from. `object` is where default methods live: `__str__`, `__new__` (which creates objects)."
   ]
  },
  {
   "cell_type": "code",
   "execution_count": 22,
   "id": "ca75db15",
   "metadata": {},
   "outputs": [
    {
     "data": {
      "text/plain": [
       "['__class__',\n",
       " '__delattr__',\n",
       " '__dir__',\n",
       " '__doc__',\n",
       " '__eq__',\n",
       " '__format__',\n",
       " '__ge__',\n",
       " '__getattribute__',\n",
       " '__gt__',\n",
       " '__hash__',\n",
       " '__init__',\n",
       " '__init_subclass__',\n",
       " '__le__',\n",
       " '__lt__',\n",
       " '__ne__',\n",
       " '__new__',\n",
       " '__reduce__',\n",
       " '__reduce_ex__',\n",
       " '__repr__',\n",
       " '__setattr__',\n",
       " '__sizeof__',\n",
       " '__str__',\n",
       " '__subclasshook__']"
      ]
     },
     "execution_count": 22,
     "metadata": {},
     "output_type": "execute_result"
    }
   ],
   "source": [
    "dir(object)"
   ]
  },
  {
   "cell_type": "code",
   "execution_count": 23,
   "id": "580d5c5c",
   "metadata": {},
   "outputs": [
    {
     "name": "stdout",
     "output_type": "stream",
     "text": [
      "I am a person named Reuven\n"
     ]
    }
   ],
   "source": [
    "print(p) # works!"
   ]
  },
  {
   "cell_type": "code",
   "execution_count": 25,
   "id": "a1cb3ca9",
   "metadata": {},
   "outputs": [
    {
     "data": {
      "text/plain": [
       "<__main__.Person at 0x104437e20>"
      ]
     },
     "execution_count": 25,
     "metadata": {},
     "output_type": "execute_result"
    }
   ],
   "source": [
    "p    # __repr__ is called, because we're in Jupyter"
   ]
  },
  {
   "cell_type": "markdown",
   "id": "517b3111",
   "metadata": {},
   "source": [
    "# Two ways to turn an object into a string\n",
    "\n",
    "- `__str__` -- Meant for end users\n",
    "- `__repr__`  -- Meant for developers, using Jupyter/debugger/etc.\n",
    "\n",
    "- If I define `__repr__`, then it covers `__str__` (if `__str__` isn't written)\n",
    "- If I define just `__str__`, then it does **not** cover `__repr__` (if it isn't written)\n",
    "\n",
    "My suggestion: Always write `__repr__`, and then (if you need to) write `__str__`."
   ]
  },
  {
   "cell_type": "code",
   "execution_count": 26,
   "id": "043abd94",
   "metadata": {},
   "outputs": [],
   "source": [
    "class Person:  # use the keyword \"class\" to create a new class\n",
    "    def __init__(self, name):\n",
    "        self.name = name\n",
    "        \n",
    "    def greet(self):\n",
    "        return f'Hello, {self.name}!'\n",
    "    \n",
    "    def __repr__(self):   # define __repr__, which covers __str__ automatically\n",
    "        return f'I am a person named {self.name}'\n",
    "\n",
    "p = Person('Reuven')  # get an instance of Person, and assign to p\n"
   ]
  },
  {
   "cell_type": "code",
   "execution_count": 27,
   "id": "a5b0e23b",
   "metadata": {},
   "outputs": [
    {
     "name": "stdout",
     "output_type": "stream",
     "text": [
      "I am a person named Reuven\n"
     ]
    }
   ],
   "source": [
    "print(p)"
   ]
  },
  {
   "cell_type": "code",
   "execution_count": 28,
   "id": "eda28c20",
   "metadata": {},
   "outputs": [
    {
     "data": {
      "text/plain": [
       "I am a person named Reuven"
      ]
     },
     "execution_count": 28,
     "metadata": {},
     "output_type": "execute_result"
    }
   ],
   "source": [
    "p"
   ]
  },
  {
   "cell_type": "markdown",
   "id": "564c8de0",
   "metadata": {},
   "source": [
    "# Exercise: Print ice cream\n",
    "\n",
    "1. Modify `Scoop`, such that if we `print` an instance of `Scoop`, we'll see its flavor:\n",
    "\n",
    "```python\n",
    "print(s1)   # Scoop of chocolate\n",
    "```\n",
    "\n",
    "2. Modify `Bowl`, such that printing an instance of `Bowl` will print the following:\n",
    "\n",
    "```\n",
    "Bowl of:\n",
    "    1. Scoop of chocolate\n",
    "    2. Scoop of vanilla\n",
    "    3. Scoop of coffee\n",
    "```"
   ]
  },
  {
   "cell_type": "code",
   "execution_count": 29,
   "id": "1b3bda4b",
   "metadata": {},
   "outputs": [
    {
     "data": {
      "text/plain": [
       "5"
      ]
     },
     "execution_count": 29,
     "metadata": {},
     "output_type": "execute_result"
    }
   ],
   "source": [
    "s = 'abcde'\n",
    "\n",
    "len(s)"
   ]
  },
  {
   "cell_type": "code",
   "execution_count": 30,
   "id": "8fffccaa",
   "metadata": {},
   "outputs": [
    {
     "ename": "TypeError",
     "evalue": "object of type 'Person' has no len()",
     "output_type": "error",
     "traceback": [
      "\u001b[0;31m---------------------------------------------------------------------------\u001b[0m",
      "\u001b[0;31mTypeError\u001b[0m                                 Traceback (most recent call last)",
      "\u001b[0;32m/var/folders/rr/0mnyyv811fs5vyp22gf4fxk00000gn/T/ipykernel_40732/2016623258.py\u001b[0m in \u001b[0;36m<module>\u001b[0;34m\u001b[0m\n\u001b[0;32m----> 1\u001b[0;31m \u001b[0mlen\u001b[0m\u001b[0;34m(\u001b[0m\u001b[0mp\u001b[0m\u001b[0;34m)\u001b[0m\u001b[0;34m\u001b[0m\u001b[0;34m\u001b[0m\u001b[0m\n\u001b[0m",
      "\u001b[0;31mTypeError\u001b[0m: object of type 'Person' has no len()"
     ]
    }
   ],
   "source": [
    "len(p)  "
   ]
  },
  {
   "cell_type": "code",
   "execution_count": 33,
   "id": "55cf3410",
   "metadata": {},
   "outputs": [],
   "source": [
    "class Person:  # use the keyword \"class\" to create a new class\n",
    "    def __init__(self, name):\n",
    "        self.name = name\n",
    "        \n",
    "    def greet(self):\n",
    "        return f'Hello, {self.name}!'\n",
    "    \n",
    "    def __repr__(self):   # define __repr__, which covers __str__ automatically\n",
    "        return f'I am a person named {self.name}'\n",
    "    \n",
    "    def __len__(self):   \n",
    "        return 20\n",
    "        # return len(self.name)  # how long is the person's name?\n",
    "\n",
    "p = Person('Reuven')  # get an instance of Person, and assign to p\n"
   ]
  },
  {
   "cell_type": "code",
   "execution_count": 34,
   "id": "6b68371e",
   "metadata": {},
   "outputs": [
    {
     "data": {
      "text/plain": [
       "20"
      ]
     },
     "execution_count": 34,
     "metadata": {},
     "output_type": "execute_result"
    }
   ],
   "source": [
    "len(p)"
   ]
  },
  {
   "cell_type": "code",
   "execution_count": 35,
   "id": "21b2a378",
   "metadata": {},
   "outputs": [
    {
     "ename": "TypeError",
     "evalue": "object of type 'int' has no len()",
     "output_type": "error",
     "traceback": [
      "\u001b[0;31m---------------------------------------------------------------------------\u001b[0m",
      "\u001b[0;31mTypeError\u001b[0m                                 Traceback (most recent call last)",
      "\u001b[0;32m/var/folders/rr/0mnyyv811fs5vyp22gf4fxk00000gn/T/ipykernel_40732/4108502181.py\u001b[0m in \u001b[0;36m<module>\u001b[0;34m\u001b[0m\n\u001b[0;32m----> 1\u001b[0;31m \u001b[0mlen\u001b[0m\u001b[0;34m(\u001b[0m\u001b[0;36m5\u001b[0m\u001b[0;34m)\u001b[0m\u001b[0;34m\u001b[0m\u001b[0;34m\u001b[0m\u001b[0m\n\u001b[0m",
      "\u001b[0;31mTypeError\u001b[0m: object of type 'int' has no len()"
     ]
    }
   ],
   "source": [
    "len(5)"
   ]
  },
  {
   "cell_type": "code",
   "execution_count": 36,
   "id": "d6138ddf",
   "metadata": {},
   "outputs": [],
   "source": [
    "p1 = Person('myname')\n",
    "p2 = Person('myname')"
   ]
  },
  {
   "cell_type": "code",
   "execution_count": 37,
   "id": "e8eafdeb",
   "metadata": {},
   "outputs": [
    {
     "data": {
      "text/plain": [
       "False"
      ]
     },
     "execution_count": 37,
     "metadata": {},
     "output_type": "execute_result"
    }
   ],
   "source": [
    "p1 == p2    #  --> p1.__eq__(p2)"
   ]
  },
  {
   "cell_type": "code",
   "execution_count": 42,
   "id": "96c7e55e",
   "metadata": {},
   "outputs": [
    {
     "data": {
      "text/plain": [
       "True"
      ]
     },
     "execution_count": 42,
     "metadata": {},
     "output_type": "execute_result"
    }
   ],
   "source": [
    "class Person:  # use the keyword \"class\" to create a new class\n",
    "    def __init__(self, name):\n",
    "        self.name = name\n",
    "        \n",
    "    def greet(self):\n",
    "        return f'Hello, {self.name}!'\n",
    "    \n",
    "    def __repr__(self):   # define __repr__, which covers __str__ automatically\n",
    "        return f'I am a person named {self.name}'\n",
    "    \n",
    "    def __len__(self):   \n",
    "        return 20\n",
    "        # return len(self.name)  # how long is the person's name?\n",
    "        \n",
    "    def __eq__(self, other):\n",
    "        if hasattr(other, 'name'):    # here, I use duck typing -- if it has a name attribute, compare with it\n",
    "            return self.name == other.name\n",
    "        \n",
    "        return False\n",
    "\n",
    "p1 = Person('myname')\n",
    "p2 = Person('myname')\n",
    "\n",
    "p1 == p2   # p1.__eq__(p2) --> Person.__eq__(p1, p2)"
   ]
  },
  {
   "cell_type": "code",
   "execution_count": 43,
   "id": "d047a621",
   "metadata": {},
   "outputs": [
    {
     "data": {
      "text/plain": [
       "False"
      ]
     },
     "execution_count": 43,
     "metadata": {},
     "output_type": "execute_result"
    }
   ],
   "source": [
    "p1 == 5"
   ]
  },
  {
   "cell_type": "code",
   "execution_count": 44,
   "id": "9941739a",
   "metadata": {},
   "outputs": [
    {
     "data": {
      "text/plain": [
       "False"
      ]
     },
     "execution_count": 44,
     "metadata": {},
     "output_type": "execute_result"
    }
   ],
   "source": [
    "p1 == [10, 20, 30]"
   ]
  },
  {
   "cell_type": "markdown",
   "id": "f4e6590f",
   "metadata": {},
   "source": [
    "# Exercise:\n",
    "\n",
    "1. Make it so that running `len` on a `Bowl` instance tells us how many scoops are in it.\n",
    "2. Make it so that comparing two bowls will return `True` or `False`.  We care if the same flavors are in the same order."
   ]
  },
  {
   "cell_type": "markdown",
   "id": "58c0a54a",
   "metadata": {},
   "source": [
    "# Exceptions"
   ]
  },
  {
   "cell_type": "code",
   "execution_count": 46,
   "id": "38de3500",
   "metadata": {},
   "outputs": [
    {
     "ename": "IndexError",
     "evalue": "list index out of range",
     "output_type": "error",
     "traceback": [
      "\u001b[0;31m---------------------------------------------------------------------------\u001b[0m",
      "\u001b[0;31mIndexError\u001b[0m                                Traceback (most recent call last)",
      "\u001b[0;32m/var/folders/rr/0mnyyv811fs5vyp22gf4fxk00000gn/T/ipykernel_40732/1362420655.py\u001b[0m in \u001b[0;36m<module>\u001b[0;34m\u001b[0m\n\u001b[1;32m      1\u001b[0m \u001b[0mmylist\u001b[0m \u001b[0;34m=\u001b[0m \u001b[0;34m[\u001b[0m\u001b[0;36m10\u001b[0m\u001b[0;34m,\u001b[0m \u001b[0;36m20\u001b[0m\u001b[0;34m,\u001b[0m \u001b[0;36m30\u001b[0m\u001b[0;34m]\u001b[0m\u001b[0;34m\u001b[0m\u001b[0;34m\u001b[0m\u001b[0m\n\u001b[1;32m      2\u001b[0m \u001b[0;34m\u001b[0m\u001b[0m\n\u001b[0;32m----> 3\u001b[0;31m \u001b[0mx\u001b[0m \u001b[0;34m=\u001b[0m \u001b[0mmylist\u001b[0m\u001b[0;34m[\u001b[0m\u001b[0;36m9999\u001b[0m\u001b[0;34m]\u001b[0m\u001b[0;34m\u001b[0m\u001b[0;34m\u001b[0m\u001b[0m\n\u001b[0m",
      "\u001b[0;31mIndexError\u001b[0m: list index out of range"
     ]
    }
   ],
   "source": [
    "mylist = [10, 20, 30]\n",
    "\n",
    "x = mylist[9999]"
   ]
  },
  {
   "cell_type": "code",
   "execution_count": 47,
   "id": "d05bec22",
   "metadata": {},
   "outputs": [
    {
     "ename": "NameError",
     "evalue": "name 'x' is not defined",
     "output_type": "error",
     "traceback": [
      "\u001b[0;31m---------------------------------------------------------------------------\u001b[0m",
      "\u001b[0;31mNameError\u001b[0m                                 Traceback (most recent call last)",
      "\u001b[0;32m/var/folders/rr/0mnyyv811fs5vyp22gf4fxk00000gn/T/ipykernel_40732/32546335.py\u001b[0m in \u001b[0;36m<module>\u001b[0;34m\u001b[0m\n\u001b[0;32m----> 1\u001b[0;31m \u001b[0mx\u001b[0m\u001b[0;34m\u001b[0m\u001b[0;34m\u001b[0m\u001b[0m\n\u001b[0m",
      "\u001b[0;31mNameError\u001b[0m: name 'x' is not defined"
     ]
    }
   ],
   "source": [
    "x"
   ]
  },
  {
   "cell_type": "code",
   "execution_count": 48,
   "id": "01c1feca",
   "metadata": {},
   "outputs": [
    {
     "name": "stdout",
     "output_type": "stream",
     "text": [
      "There was a problem\n"
     ]
    }
   ],
   "source": [
    "# don't do this -- to general\n",
    "\n",
    "mylist = [10, 20, 30]\n",
    "\n",
    "try:\n",
    "    x = mylist[9999]\n",
    "except:\n",
    "    print('There was a problem')"
   ]
  },
  {
   "cell_type": "code",
   "execution_count": 50,
   "id": "05f39364",
   "metadata": {},
   "outputs": [
    {
     "name": "stdout",
     "output_type": "stream",
     "text": [
      "There was a problem: list index out of range\n"
     ]
    }
   ],
   "source": [
    "mylist = [10, 20, 30]\n",
    "\n",
    "try:\n",
    "    x = mylist[9999]                       # run this code -- but if it encounters an index problem, jump to Except\n",
    "except IndexError as e:                    # did we encounter an indexing problem in the \"try\" block?\n",
    "    print(f'There was a problem: {e}')     # e is the instance of the exception "
   ]
  },
  {
   "cell_type": "code",
   "execution_count": 54,
   "id": "3302a848",
   "metadata": {},
   "outputs": [
    {
     "name": "stdout",
     "output_type": "stream",
     "text": [
      "You should avoid dividing by zero: division by zero\n"
     ]
    },
    {
     "ename": "TypeError",
     "evalue": "unsupported operand type(s) for +: 'int' and 'str'",
     "output_type": "error",
     "traceback": [
      "\u001b[0;31m---------------------------------------------------------------------------\u001b[0m",
      "\u001b[0;31mZeroDivisionError\u001b[0m                         Traceback (most recent call last)",
      "\u001b[0;32m/var/folders/rr/0mnyyv811fs5vyp22gf4fxk00000gn/T/ipykernel_40732/4060016723.py\u001b[0m in \u001b[0;36m<module>\u001b[0;34m\u001b[0m\n\u001b[1;32m      3\u001b[0m \u001b[0;32mtry\u001b[0m\u001b[0;34m:\u001b[0m\u001b[0;34m\u001b[0m\u001b[0;34m\u001b[0m\u001b[0m\n\u001b[0;32m----> 4\u001b[0;31m     \u001b[0mx\u001b[0m \u001b[0;34m=\u001b[0m \u001b[0;36m10\u001b[0m \u001b[0;34m/\u001b[0m \u001b[0;36m0\u001b[0m\u001b[0;34m\u001b[0m\u001b[0;34m\u001b[0m\u001b[0m\n\u001b[0m\u001b[1;32m      5\u001b[0m \u001b[0;32mexcept\u001b[0m \u001b[0mIndexError\u001b[0m \u001b[0;32mas\u001b[0m \u001b[0me\u001b[0m\u001b[0;34m:\u001b[0m                    \u001b[0;31m# did we encounter an indexing problem in the \"try\" block?\u001b[0m\u001b[0;34m\u001b[0m\u001b[0;34m\u001b[0m\u001b[0m\n",
      "\u001b[0;31mZeroDivisionError\u001b[0m: division by zero",
      "\nDuring handling of the above exception, another exception occurred:\n",
      "\u001b[0;31mTypeError\u001b[0m                                 Traceback (most recent call last)",
      "\u001b[0;32m/var/folders/rr/0mnyyv811fs5vyp22gf4fxk00000gn/T/ipykernel_40732/4060016723.py\u001b[0m in \u001b[0;36m<module>\u001b[0;34m\u001b[0m\n\u001b[1;32m      7\u001b[0m \u001b[0;32mexcept\u001b[0m \u001b[0mZeroDivisionError\u001b[0m \u001b[0;32mas\u001b[0m \u001b[0me\u001b[0m\u001b[0;34m:\u001b[0m\u001b[0;34m\u001b[0m\u001b[0;34m\u001b[0m\u001b[0m\n\u001b[1;32m      8\u001b[0m     \u001b[0mprint\u001b[0m\u001b[0;34m(\u001b[0m\u001b[0;34mf'You should avoid dividing by zero: {e}'\u001b[0m\u001b[0;34m)\u001b[0m\u001b[0;34m\u001b[0m\u001b[0;34m\u001b[0m\u001b[0m\n\u001b[0;32m----> 9\u001b[0;31m     \u001b[0mprint\u001b[0m\u001b[0;34m(\u001b[0m\u001b[0;36m10\u001b[0m \u001b[0;34m+\u001b[0m \u001b[0;34m'5'\u001b[0m\u001b[0;34m)\u001b[0m\u001b[0;34m\u001b[0m\u001b[0;34m\u001b[0m\u001b[0m\n\u001b[0m",
      "\u001b[0;31mTypeError\u001b[0m: unsupported operand type(s) for +: 'int' and 'str'"
     ]
    }
   ],
   "source": [
    "mylist = [10, 20, 30]\n",
    "\n",
    "try:\n",
    "    x = 10 / 0\n",
    "except IndexError as e:                    # did we encounter an indexing problem in the \"try\" block?\n",
    "    print(f'There was a problem: {e}')     # e is the instance of the exception \n",
    "except ZeroDivisionError as e:\n",
    "    print(f'You should avoid dividing by zero: {e}')"
   ]
  },
  {
   "cell_type": "code",
   "execution_count": 53,
   "id": "ec32ddee",
   "metadata": {},
   "outputs": [
    {
     "ename": "NameError",
     "evalue": "name 'e' is not defined",
     "output_type": "error",
     "traceback": [
      "\u001b[0;31m---------------------------------------------------------------------------\u001b[0m",
      "\u001b[0;31mNameError\u001b[0m                                 Traceback (most recent call last)",
      "\u001b[0;32m/var/folders/rr/0mnyyv811fs5vyp22gf4fxk00000gn/T/ipykernel_40732/2740565805.py\u001b[0m in \u001b[0;36m<module>\u001b[0;34m\u001b[0m\n\u001b[0;32m----> 1\u001b[0;31m \u001b[0me\u001b[0m\u001b[0;34m\u001b[0m\u001b[0;34m\u001b[0m\u001b[0m\n\u001b[0m",
      "\u001b[0;31mNameError\u001b[0m: name 'e' is not defined"
     ]
    }
   ],
   "source": [
    "e"
   ]
  },
  {
   "cell_type": "code",
   "execution_count": 60,
   "id": "cc73b5cb",
   "metadata": {},
   "outputs": [
    {
     "name": "stdout",
     "output_type": "stream",
     "text": [
      "Ignoring emond.d; is a directory\n",
      "Ignoring xinetd.d-migrated2launchd; is a directory\n",
      "ssh_config.system_default: 1465\n",
      "ssh_config.applesaved: 1144\n",
      "Ignoring periodic; is a directory\n",
      "manpaths: 36\n",
      "services~previous: 677972\n",
      "rc.common: 1560\n",
      "csh.logout~orig: 39\n",
      "auto_master: 195\n",
      "php.ini.default-5.2-previous~orig: 65459\n",
      "csh.login: 121\n",
      "syslog.conf: 96\n",
      "rtadvd.conf~previous: 891\n",
      "syslog.conf~previous: 96\n",
      "Ignoring krb5.keytab; permission denied\n",
      "Ignoring sudoers.d; is a directory\n",
      "bash_completion.d: 0\n",
      "Ignoring ssl; is a directory\n",
      "kern_loader.conf.applesaved: 0\n",
      "ttys~previous: 1316\n",
      "csh.logout: 39\n",
      "Ignoring aliases.db; permission denied\n",
      "hosts.lpd: 0\n",
      "bashrc_Apple_Terminal: 9309\n",
      "Ignoring racoon; is a directory\n",
      "Ignoring snmp; is a directory\n",
      "zshrc_Apple_Terminal: 9335\n",
      "named.conf.applesaved: 905\n",
      "gettytab: 5678\n",
      "Ignoring master.passwd~orig; permission denied\n",
      "kern_loader.conf: 0\n",
      "authorization.user_modified: 18621\n",
      "networks~orig: 53\n",
      "Ignoring paths.d; is a directory\n",
      "Ignoring asl; is a directory\n",
      "csh.login~orig: 121\n",
      "rtadvd.conf: 891\n",
      "Ignoring security; is a directory\n",
      "protocols~previous: 6393\n",
      "group: 3304\n",
      "printcap: 452\n",
      "auto_home: 149\n",
      "php.ini.default-previous: 71055\n",
      "Ignoring sudoers~; permission denied\n",
      "Ignoring manpaths.d; is a directory\n",
      "smb.conf.applesaved: 1699\n",
      "Ignoring ppp; is a directory\n",
      "shells: 189\n",
      "pear.conf-previous: 1208\n",
      "crontab: 137\n",
      "slpsa.conf.applesaved: 52\n",
      "rc.common~previous: 1560\n",
      "Ignoring xinetd.d; is a directory\n",
      "ttys: 1316\n",
      "group~previous: 2769\n",
      "paths: 45\n",
      "rmtab: 0\n",
      "csh.cshrc~orig: 189\n",
      "inetd.conf.applesaved: 2893\n",
      "xtab: 0\n",
      "syslog.conf.applesaved: 823\n",
      "Ignoring localtime; binary\n",
      "pf.conf: 1027\n",
      "6to4.conf.applesaved: 753\n",
      "Ignoring CiscoSystemsVPNClient; is a directory\n",
      "launchd.conf: 19\n",
      "Ignoring sudoers; permission denied\n",
      "ftpusers~orig: 119\n",
      "bashrc: 265\n",
      "find.codes~orig: 0\n",
      "auto_master~orig: 194\n",
      "Ignoring newsyslog.d; is a directory\n",
      "Ignoring emacs; is a directory\n",
      "irbrc: 1299\n",
      "Ignoring pam.d; is a directory\n",
      "zshrc: 3094\n",
      "Ignoring defaults; is a directory\n",
      "hosts.equiv: 0\n",
      "networks: 53\n",
      "find.codes: 0\n",
      "rpc~previous: 1735\n",
      "Ignoring apache2; is a directory\n",
      "autofs.conf: 1935\n",
      "Ignoring ssh; is a directory\n",
      "ftpusers: 119\n",
      "postgres-reg.ini: 1101\n",
      "slpsa.conf: 52\n",
      "profile: 189\n",
      "csh.cshrc: 189\n",
      "fstab.hd~previous: 150\n",
      "ntp.conf.applesaved: 44\n",
      "ntp_opendirectory.conf: 23\n",
      "ssh_config~orig: 3847\n",
      "profile~orig: 189\n",
      "authorization.deprecated: 343017\n",
      "locate.rc: 832\n",
      "resolv.conf: 357\n",
      "nfs.conf: 43\n",
      "crontab.applesaved: 296\n",
      "Ignoring dictionaries-common; is a directory\n",
      "Ignoring sudoers~orig; permission denied\n",
      "Ignoring sudo_lecture; permission denied\n",
      "asl.conf: 1051\n",
      "ttys.applesaved: 2442\n",
      "moduli~previous: 242153\n",
      "rc.netboot: 5264\n",
      "Ignoring X11; not found\n",
      "afpovertcp.cfg~orig: 515\n",
      "hosts~orig: 213\n",
      "fstab: 293\n",
      "Ignoring opt; is a directory\n",
      "nfs.conf~orig: 43\n",
      "hostconfig: 201\n",
      "smb.conf.old: 2975\n",
      "kern_loader.conf~previous: 0\n",
      "xinetd.conf.applesaved: 238\n",
      "rtadvd.conf.applesaved: 983\n",
      "sshd_config.system_default: 3362\n",
      "hosts: 220\n",
      "efax.rc~previous: 1029\n",
      "Ignoring postfix; is a directory\n",
      "pf.os: 28311\n",
      "Ignoring pf.anchors; is a directory\n",
      "php.ini.default-previous~orig: 73685\n",
      "ntp.conf: 22\n",
      "php.ini.default-5.2-previous: 69266\n",
      "gettytab~orig: 5678\n",
      "passwd~orig: 6393\n",
      "rpc: 1735\n",
      "Ignoring master.passwd; permission denied\n",
      "sshd_config~previous: 4161\n",
      "Ignoring openldap; is a directory\n",
      "aliases: 10086\n",
      "paths~orig: 45\n",
      "Ignoring fonts; is a directory\n",
      "Ignoring openssl; is a directory\n",
      "com.apple.screensharing.agent.launchd: 82\n",
      "Ignoring wfs; is a directory\n",
      "hostconfig.system_default: 185\n",
      "shells~orig: 179\n",
      "sshd_config.applesaved: 2409\n",
      "dumpdates: 0\n",
      "protocols: 6393\n",
      "Ignoring AFP.conf; permission denied\n",
      "Ignoring cups; is a directory\n",
      "man.conf: 4627\n",
      "services: 677977\n",
      "mail.rc~orig: 106\n",
      "Ignoring resolver; is a directory\n",
      "Ignoring uucp; is a directory\n",
      "passwd: 7868\n",
      "zprofile: 255\n",
      "afpovertcp.cfg: 515\n",
      "newsyslog.conf: 1318\n",
      "bashrc~previous: 265\n",
      "mail.rc: 106\n",
      "notify.conf: 557\n",
      "sysctl.conf.pg: 106\n"
     ]
    }
   ],
   "source": [
    "import os\n",
    "\n",
    "for one_filename in os.listdir('/etc/'):\n",
    "    total = 0\n",
    "    try:\n",
    "        for one_line in open('/etc/' + one_filename):\n",
    "            total += len(one_line)\n",
    "\n",
    "        print(f'{one_filename}: {total}')   # print length of the file\n",
    "    except IsADirectoryError as e:\n",
    "        print(f'Ignoring {one_filename}; is a directory')\n",
    "    except PermissionError as e:\n",
    "        print(f'Ignoring {one_filename}; permission denied')\n",
    "    except UnicodeDecodeError as e:\n",
    "        print(f'Ignoring {one_filename}; binary')\n",
    "    except FileNotFoundError as e:\n",
    "        print(f'Ignoring {one_filename}; not found')        "
   ]
  },
  {
   "cell_type": "code",
   "execution_count": null,
   "id": "322191f9",
   "metadata": {},
   "outputs": [],
   "source": []
  }
 ],
 "metadata": {
  "kernelspec": {
   "display_name": "Python 3 (ipykernel)",
   "language": "python",
   "name": "python3"
  },
  "language_info": {
   "codemirror_mode": {
    "name": "ipython",
    "version": 3
   },
   "file_extension": ".py",
   "mimetype": "text/x-python",
   "name": "python",
   "nbconvert_exporter": "python",
   "pygments_lexer": "ipython3",
   "version": "3.10.6"
  }
 },
 "nbformat": 4,
 "nbformat_minor": 5
}
