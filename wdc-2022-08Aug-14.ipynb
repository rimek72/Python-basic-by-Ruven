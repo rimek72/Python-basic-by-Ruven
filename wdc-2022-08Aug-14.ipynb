{
 "cells": [
  {
   "cell_type": "markdown",
   "id": "c84968c1",
   "metadata": {},
   "source": [
    "# Agenda\n",
    "\n",
    "1. Recap/summary of objects\n",
    "2. Inheritance (`object`)\n",
    "3. Magic methods (`__len__`, `__str__`, `__repr__`)\n",
    "4. Exceptions\n",
    "5. Test"
   ]
  },
  {
   "cell_type": "code",
   "execution_count": null,
   "id": "bd1d06df",
   "metadata": {},
   "outputs": [],
   "source": [
    "- "
   ]
  }
 ],
 "metadata": {
  "kernelspec": {
   "display_name": "Python 3 (ipykernel)",
   "language": "python",
   "name": "python3"
  },
  "language_info": {
   "codemirror_mode": {
    "name": "ipython",
    "version": 3
   },
   "file_extension": ".py",
   "mimetype": "text/x-python",
   "name": "python",
   "nbconvert_exporter": "python",
   "pygments_lexer": "ipython3",
   "version": "3.10.6"
  }
 },
 "nbformat": 4,
 "nbformat_minor": 5
}
